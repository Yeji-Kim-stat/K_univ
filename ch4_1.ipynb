{
 "cells": [
  {
   "cell_type": "code",
   "execution_count": 1,
   "metadata": {},
   "outputs": [
    {
     "name": "stdout",
     "output_type": "stream",
     "text": [
      "tf.Tensor(\n",
      "[[1 2 3]\n",
      " [4 5 6]], shape=(2, 3), dtype=int32)\n",
      "(2, 3)\n",
      "<dtype: 'int32'>\n"
     ]
    }
   ],
   "source": [
    "import tensorflow as tf\n",
    "a=tf.constant([[1,2,3],[4,5,6]])\n",
    "print(a)\n",
    "print(a.shape)\n",
    "print(a.dtype)"
   ]
  },
  {
   "cell_type": "code",
   "execution_count": 2,
   "metadata": {},
   "outputs": [
    {
     "data": {
      "text/plain": [
       "<tf.Tensor: id=4, shape=(2, 2), dtype=int32, numpy=\n",
       "array([[1, 2],\n",
       "       [4, 5]])>"
      ]
     },
     "execution_count": 2,
     "metadata": {},
     "output_type": "execute_result"
    }
   ],
   "source": [
    "a[:,:2]"
   ]
  },
  {
   "cell_type": "code",
   "execution_count": 3,
   "metadata": {},
   "outputs": [
    {
     "name": "stdout",
     "output_type": "stream",
     "text": [
      "tf.Tensor([2 5], shape=(2,), dtype=int32)\n",
      "tf.Tensor(\n",
      "[[2]\n",
      " [5]], shape=(2, 1), dtype=int32)\n"
     ]
    }
   ],
   "source": [
    "a_1=a[...,1]\n",
    "a_2=a[...,1,tf.newaxis]\n",
    "print(a_1)\n",
    "print(a_2)"
   ]
  },
  {
   "cell_type": "code",
   "execution_count": 5,
   "metadata": {},
   "outputs": [
    {
     "name": "stdout",
     "output_type": "stream",
     "text": [
      "tf.Tensor(\n",
      "[[101 102 103]\n",
      " [104 105 106]], shape=(2, 3), dtype=int32)\n",
      "tf.Tensor(\n",
      "[[ 1  4  9]\n",
      " [16 25 36]], shape=(2, 3), dtype=int32)\n"
     ]
    }
   ],
   "source": [
    "b_0=a+100\n",
    "b_1=tf.square(a)\n",
    "print(b_0)\n",
    "print(b_1)"
   ]
  },
  {
   "cell_type": "code",
   "execution_count": 6,
   "metadata": {},
   "outputs": [
    {
     "data": {
      "text/plain": [
       "array([[1, 2, 3],\n",
       "       [4, 5, 6]])"
      ]
     },
     "execution_count": 6,
     "metadata": {},
     "output_type": "execute_result"
    }
   ],
   "source": [
    "a.numpy()"
   ]
  },
  {
   "cell_type": "code",
   "execution_count": 7,
   "metadata": {},
   "outputs": [],
   "source": [
    "import numpy as np\n",
    "c=np.array([[1,2],[3,4],[5,6]])\n",
    "d_1=tf.transpose(c)\n",
    "d_2=c.T"
   ]
  },
  {
   "cell_type": "code",
   "execution_count": 8,
   "metadata": {},
   "outputs": [
    {
     "name": "stdout",
     "output_type": "stream",
     "text": [
      "[[1 2]\n",
      " [3 4]\n",
      " [5 6]]\n",
      "tf.Tensor(\n",
      "[[1 3 5]\n",
      " [2 4 6]], shape=(2, 3), dtype=int32)\n",
      "[[1 3 5]\n",
      " [2 4 6]]\n"
     ]
    }
   ],
   "source": [
    "print(c)\n",
    "print(d_1)\n",
    "print(d_2)"
   ]
  },
  {
   "cell_type": "code",
   "execution_count": 10,
   "metadata": {},
   "outputs": [
    {
     "data": {
      "text/plain": [
       "<tf.Tensor: id=22, shape=(), dtype=float32, numpy=101.0>"
      ]
     },
     "execution_count": 10,
     "metadata": {},
     "output_type": "execute_result"
    }
   ],
   "source": [
    "t1=1\n",
    "t2=100.\n",
    "tf.cast(t1,tf.float32)+t2"
   ]
  },
  {
   "cell_type": "code",
   "execution_count": 11,
   "metadata": {},
   "outputs": [
    {
     "name": "stdout",
     "output_type": "stream",
     "text": [
      "<tf.Variable 'Variable:0' shape=(2, 3) dtype=float32, numpy=\n",
      "array([[1., 2., 3.],\n",
      "       [4., 5., 6.]], dtype=float32)>\n"
     ]
    }
   ],
   "source": [
    "k=tf.Variable([[1.,2,3],[4,5,6]])\n",
    "print(k)"
   ]
  },
  {
   "cell_type": "code",
   "execution_count": 12,
   "metadata": {},
   "outputs": [
    {
     "data": {
      "text/plain": [
       "<tf.Tensor: id=32, shape=(2, 3), dtype=int32, numpy=\n",
       "array([[1, 2, 3],\n",
       "       [4, 5, 6]])>"
      ]
     },
     "execution_count": 12,
     "metadata": {},
     "output_type": "execute_result"
    }
   ],
   "source": [
    "tf.constant([[1,2,3],[4,5,6]])"
   ]
  },
  {
   "cell_type": "code",
   "execution_count": 13,
   "metadata": {},
   "outputs": [
    {
     "data": {
      "text/plain": [
       "<tf.Variable 'UnreadVariable' shape=(2, 3) dtype=float32, numpy=\n",
       "array([[ 1.,  4.,  9.],\n",
       "       [16., 25., 36.]], dtype=float32)>"
      ]
     },
     "execution_count": 13,
     "metadata": {},
     "output_type": "execute_result"
    }
   ],
   "source": [
    "k.assign(k**2)"
   ]
  },
  {
   "cell_type": "code",
   "execution_count": 14,
   "metadata": {},
   "outputs": [
    {
     "data": {
      "text/plain": [
       "<tf.Variable 'UnreadVariable' shape=(2, 3) dtype=float32, numpy=\n",
       "array([[  1., 100.,   9.],\n",
       "       [ 16.,  25.,  36.]], dtype=float32)>"
      ]
     },
     "execution_count": 14,
     "metadata": {},
     "output_type": "execute_result"
    }
   ],
   "source": [
    "k[0,1].assign(100)"
   ]
  },
  {
   "cell_type": "code",
   "execution_count": 15,
   "metadata": {},
   "outputs": [
    {
     "data": {
      "text/plain": [
       "<tf.Variable 'UnreadVariable' shape=(2, 3) dtype=float32, numpy=\n",
       "array([[  1., 100.,   0.],\n",
       "       [ 16.,  25.,   0.]], dtype=float32)>"
      ]
     },
     "execution_count": 15,
     "metadata": {},
     "output_type": "execute_result"
    }
   ],
   "source": [
    "k[:,2].assign([0,0])"
   ]
  },
  {
   "cell_type": "code",
   "execution_count": 16,
   "metadata": {},
   "outputs": [
    {
     "data": {
      "text/plain": [
       "<tf.Variable 'UnreadVariable' shape=(2, 3) dtype=float32, numpy=\n",
       "array([[999., 100.,   0.],\n",
       "       [999.,  25.,   0.]], dtype=float32)>"
      ]
     },
     "execution_count": 16,
     "metadata": {},
     "output_type": "execute_result"
    }
   ],
   "source": [
    "k.scatter_nd_update(indices=[[0,0],[1,0]],updates=[999,999])"
   ]
  },
  {
   "cell_type": "code",
   "execution_count": 2,
   "metadata": {},
   "outputs": [
    {
     "name": "stdout",
     "output_type": "stream",
     "text": [
      "[[[ 1  2  3  4]\n",
      "  [ 5  6  7  8]\n",
      "  [ 9 10 11 12]]\n",
      "\n",
      " [[13 14 15 16]\n",
      "  [17 18 19 20]\n",
      "  [21 22 23 24]]]\n"
     ]
    },
    {
     "data": {
      "text/plain": [
       "<tf.Tensor: shape=(4, 3, 2), dtype=int32, numpy=\n",
       "array([[[ 1, 13],\n",
       "        [ 5, 17],\n",
       "        [ 9, 21]],\n",
       "\n",
       "       [[ 2, 14],\n",
       "        [ 6, 18],\n",
       "        [10, 22]],\n",
       "\n",
       "       [[ 3, 15],\n",
       "        [ 7, 19],\n",
       "        [11, 23]],\n",
       "\n",
       "       [[ 4, 16],\n",
       "        [ 8, 20],\n",
       "        [12, 24]]])>"
      ]
     },
     "execution_count": 2,
     "metadata": {},
     "output_type": "execute_result"
    }
   ],
   "source": [
    "import tensorflow as tf\n",
    "x=tf.constant([[[1,2,3,4],[5,6,7,8],[9,10,11,12]],\n",
    "              [[13,14,15,16],[17,18,19,20],[21,22,23,24]]])\n",
    "print(x.numpy())\n",
    "tf.transpose(x)"
   ]
  },
  {
   "cell_type": "code",
   "execution_count": 3,
   "metadata": {},
   "outputs": [
    {
     "data": {
      "text/plain": [
       "<tf.Tensor: shape=(2, 4, 3), dtype=int32, numpy=\n",
       "array([[[ 1,  5,  9],\n",
       "        [ 2,  6, 10],\n",
       "        [ 3,  7, 11],\n",
       "        [ 4,  8, 12]],\n",
       "\n",
       "       [[13, 17, 21],\n",
       "        [14, 18, 22],\n",
       "        [15, 19, 23],\n",
       "        [16, 20, 24]]])>"
      ]
     },
     "execution_count": 3,
     "metadata": {},
     "output_type": "execute_result"
    }
   ],
   "source": [
    "tf.transpose(x, perm=(0,2,1))"
   ]
  },
  {
   "cell_type": "code",
   "execution_count": 4,
   "metadata": {},
   "outputs": [
    {
     "name": "stdout",
     "output_type": "stream",
     "text": [
      "1.2\n",
      "3.4\n",
      "7.5\n",
      "4.1\n",
      "5.0\n",
      "1.0\n",
      "5.2\n"
     ]
    }
   ],
   "source": [
    "import tensorflow as tf\n",
    "a=[1.2,3.4,7.5,4.1,5.0,1.0,5.2]\n",
    "ds=tf.data.Dataset.from_tensor_slices(a)\n",
    "for i in ds:\n",
    "    print(i.numpy())"
   ]
  },
  {
   "cell_type": "code",
   "execution_count": 5,
   "metadata": {},
   "outputs": [
    {
     "name": "stdout",
     "output_type": "stream",
     "text": [
      "batch 1: [1.2 3.4 7.5]\n",
      "batch 2: [4.1 5.  1. ]\n"
     ]
    }
   ],
   "source": [
    "ds_batch=ds.batch(3, drop_remainder=True)\n",
    "for i, elem in enumerate(ds_batch,1):\n",
    "    print('batch {}:' .format (i), elem.numpy())"
   ]
  },
  {
   "cell_type": "code",
   "execution_count": 6,
   "metadata": {},
   "outputs": [
    {
     "ename": "AttributeError",
     "evalue": "'BatchDataset' object has no attribute 'numpy'",
     "output_type": "error",
     "traceback": [
      "\u001b[1;31m---------------------------------------------------------------------------\u001b[0m",
      "\u001b[1;31mAttributeError\u001b[0m                            Traceback (most recent call last)",
      "\u001b[1;32m<ipython-input-6-9beb18dedb27>\u001b[0m in \u001b[0;36m<module>\u001b[1;34m\u001b[0m\n\u001b[0;32m      1\u001b[0m \u001b[0mds_batch\u001b[0m\u001b[1;33m=\u001b[0m\u001b[0mds\u001b[0m\u001b[1;33m.\u001b[0m\u001b[0mbatch\u001b[0m\u001b[1;33m(\u001b[0m\u001b[1;36m3\u001b[0m\u001b[1;33m,\u001b[0m \u001b[0mdrop_remainder\u001b[0m\u001b[1;33m=\u001b[0m\u001b[1;32mTrue\u001b[0m\u001b[1;33m)\u001b[0m\u001b[1;33m\u001b[0m\u001b[1;33m\u001b[0m\u001b[0m\n\u001b[1;32m----> 2\u001b[1;33m \u001b[0mprint\u001b[0m\u001b[1;33m(\u001b[0m\u001b[0mds_batch\u001b[0m\u001b[1;33m.\u001b[0m\u001b[0mnumpy\u001b[0m\u001b[1;33m(\u001b[0m\u001b[1;33m)\u001b[0m\u001b[1;33m)\u001b[0m\u001b[1;33m\u001b[0m\u001b[1;33m\u001b[0m\u001b[0m\n\u001b[0m",
      "\u001b[1;31mAttributeError\u001b[0m: 'BatchDataset' object has no attribute 'numpy'"
     ]
    }
   ],
   "source": [
    "ds_batch=ds.batch(3, drop_remainder=True)\n",
    "print(ds_batch.numpy())"
   ]
  },
  {
   "cell_type": "code",
   "execution_count": 7,
   "metadata": {},
   "outputs": [
    {
     "name": "stdout",
     "output_type": "stream",
     "text": [
      "[0.02940536 0.992998   0.00561428] 0\n",
      "[0.37179184 0.12528324 0.933988  ] 1\n",
      "[0.7288382  0.13186073 0.38823724] 2\n",
      "[0.0197314  0.33587694 0.9312159 ] 3\n"
     ]
    }
   ],
   "source": [
    "t_x=tf.random.uniform([4,3], dtype=tf.float32)\n",
    "t_y=tf.range(4)\n",
    "ds_xy=tf.data.Dataset.from_tensor_slices((t_x,t_y))\n",
    "for example in ds_xy:\n",
    "    print(example[0].numpy(),example[1].numpy())"
   ]
  },
  {
   "cell_type": "code",
   "execution_count": 8,
   "metadata": {},
   "outputs": [
    {
     "name": "stdout",
     "output_type": "stream",
     "text": [
      "[-0.9411893   0.985996   -0.98877144] 0\n",
      "[-0.25641632 -0.7494335   0.86797595] 1\n",
      "[ 0.4576764  -0.73627853 -0.22352552] 2\n",
      "[-0.9605372  -0.32824612  0.86243176] 3\n"
     ]
    }
   ],
   "source": [
    "ds_transform=ds_xy.map(lambda x,y:(x*2-1.0,y))\n",
    "for example in ds_transform:\n",
    "    print(example[0].numpy(),example[1].numpy())"
   ]
  },
  {
   "cell_type": "code",
   "execution_count": 9,
   "metadata": {},
   "outputs": [
    {
     "name": "stdout",
     "output_type": "stream",
     "text": [
      "[[0.02940536 0.992998   0.00561428]\n",
      " [0.37179184 0.12528324 0.933988  ]\n",
      " [0.7288382  0.13186073 0.38823724]]\n",
      "[0 1 2]\n",
      "[[0.0197314  0.33587694 0.9312159 ]]\n",
      "[3]\n"
     ]
    }
   ],
   "source": [
    "ds=ds_xy.batch(3)\n",
    "for example in ds:\n",
    "    print(example[0].numpy())\n",
    "    print(example[1].numpy())"
   ]
  },
  {
   "cell_type": "code",
   "execution_count": 10,
   "metadata": {},
   "outputs": [
    {
     "name": "stdout",
     "output_type": "stream",
     "text": [
      "[[0.02940536 0.992998   0.00561428]\n",
      " [0.37179184 0.12528324 0.933988  ]\n",
      " [0.7288382  0.13186073 0.38823724]]\n",
      "[0 1 2]\n",
      "[[0.0197314  0.33587694 0.9312159 ]]\n",
      "[3]\n",
      "[[0.02940536 0.992998   0.00561428]\n",
      " [0.37179184 0.12528324 0.933988  ]\n",
      " [0.7288382  0.13186073 0.38823724]]\n",
      "[0 1 2]\n",
      "[[0.0197314  0.33587694 0.9312159 ]]\n",
      "[3]\n"
     ]
    }
   ],
   "source": [
    "ds=ds_xy.batch(3).repeat(2)\n",
    "for example in ds:\n",
    "    print(example[0].numpy())\n",
    "    print(example[1].numpy())"
   ]
  },
  {
   "cell_type": "code",
   "execution_count": 11,
   "metadata": {},
   "outputs": [
    {
     "name": "stdout",
     "output_type": "stream",
     "text": [
      "[[0.02940536 0.992998   0.00561428]\n",
      " [0.0197314  0.33587694 0.9312159 ]\n",
      " [0.37179184 0.12528324 0.933988  ]]\n",
      "[0 3 1]\n",
      "[[0.7288382  0.13186073 0.38823724]]\n",
      "[2]\n",
      "[[0.02940536 0.992998   0.00561428]\n",
      " [0.7288382  0.13186073 0.38823724]\n",
      " [0.37179184 0.12528324 0.933988  ]]\n",
      "[0 2 1]\n",
      "[[0.0197314  0.33587694 0.9312159 ]]\n",
      "[3]\n"
     ]
    }
   ],
   "source": [
    "ds=ds_xy.shuffle(4).batch(3).repeat(2)\n",
    "for example in ds:\n",
    "    print(example[0].numpy())\n",
    "    print(example[1].numpy())"
   ]
  },
  {
   "cell_type": "code",
   "execution_count": 1,
   "metadata": {},
   "outputs": [],
   "source": [
    "import tensorflow_datasets as tfds"
   ]
  },
  {
   "cell_type": "code",
   "execution_count": 2,
   "metadata": {},
   "outputs": [
    {
     "name": "stdout",
     "output_type": "stream",
     "text": [
      "246\n",
      "['xsum', 'xtreme_pawsx', 'xtreme_xnli', 'yelp_polarity_reviews', 'yes_no']\n"
     ]
    }
   ],
   "source": [
    "print(len(tfds.list_builders()))\n",
    "print(tfds.list_builders()[-5:])"
   ]
  },
  {
   "cell_type": "code",
   "execution_count": 4,
   "metadata": {},
   "outputs": [
    {
     "name": "stdout",
     "output_type": "stream",
     "text": [
      "tfds.core.DatasetInfo(\n",
      "    name='celeb_a',\n",
      "    full_name='celeb_a/2.0.1',\n",
      "    description=\"\"\"\n",
      "    CelebFaces Attributes Dataset (CelebA) is a large-scale face attributes dataset with more than 200K celebrity images, each with 40 attribute annotations. The images in this dataset cover large pose variations and background clutter. CelebA has large diversities, large quantities, and rich annotations, including\n",
      "     - 10,177 number of identities,\n",
      "     - 202,599 number of face images, and\n",
      "     - 5 landmark locations, 40 binary attributes annotations per image.\n",
      "    \n",
      "    The dataset can be employed as the training and test sets for the following computer vision tasks: face attribute recognition, face detection, and landmark (or facial part) localization.\n",
      "    \n",
      "    Note: CelebA dataset may contain potential bias. The fairness indicators\n",
      "    [example](https://github.com/tensorflow/fairness-indicators/blob/master/fairness_indicators/documentation/examples/Fairness_Indicators_TFCO_CelebA_Case_Study.ipynb)\n",
      "    goes into detail about several considerations to keep in mind while using the\n",
      "    CelebA dataset.\n",
      "    \"\"\",\n",
      "    homepage='http://mmlab.ie.cuhk.edu.hk/projects/CelebA.html',\n",
      "    data_path='C:\\\\Users\\\\user\\\\tensorflow_datasets\\\\celeb_a\\\\2.0.1',\n",
      "    download_size=1.38 GiB,\n",
      "    dataset_size=1.62 GiB,\n",
      "    features=FeaturesDict({\n",
      "        'attributes': FeaturesDict({\n",
      "            '5_o_Clock_Shadow': tf.bool,\n",
      "            'Arched_Eyebrows': tf.bool,\n",
      "            'Attractive': tf.bool,\n",
      "            'Bags_Under_Eyes': tf.bool,\n",
      "            'Bald': tf.bool,\n",
      "            'Bangs': tf.bool,\n",
      "            'Big_Lips': tf.bool,\n",
      "            'Big_Nose': tf.bool,\n",
      "            'Black_Hair': tf.bool,\n",
      "            'Blond_Hair': tf.bool,\n",
      "            'Blurry': tf.bool,\n",
      "            'Brown_Hair': tf.bool,\n",
      "            'Bushy_Eyebrows': tf.bool,\n",
      "            'Chubby': tf.bool,\n",
      "            'Double_Chin': tf.bool,\n",
      "            'Eyeglasses': tf.bool,\n",
      "            'Goatee': tf.bool,\n",
      "            'Gray_Hair': tf.bool,\n",
      "            'Heavy_Makeup': tf.bool,\n",
      "            'High_Cheekbones': tf.bool,\n",
      "            'Male': tf.bool,\n",
      "            'Mouth_Slightly_Open': tf.bool,\n",
      "            'Mustache': tf.bool,\n",
      "            'Narrow_Eyes': tf.bool,\n",
      "            'No_Beard': tf.bool,\n",
      "            'Oval_Face': tf.bool,\n",
      "            'Pale_Skin': tf.bool,\n",
      "            'Pointy_Nose': tf.bool,\n",
      "            'Receding_Hairline': tf.bool,\n",
      "            'Rosy_Cheeks': tf.bool,\n",
      "            'Sideburns': tf.bool,\n",
      "            'Smiling': tf.bool,\n",
      "            'Straight_Hair': tf.bool,\n",
      "            'Wavy_Hair': tf.bool,\n",
      "            'Wearing_Earrings': tf.bool,\n",
      "            'Wearing_Hat': tf.bool,\n",
      "            'Wearing_Lipstick': tf.bool,\n",
      "            'Wearing_Necklace': tf.bool,\n",
      "            'Wearing_Necktie': tf.bool,\n",
      "            'Young': tf.bool,\n",
      "        }),\n",
      "        'image': Image(shape=(218, 178, 3), dtype=tf.uint8),\n",
      "        'landmarks': FeaturesDict({\n",
      "            'lefteye_x': tf.int64,\n",
      "            'lefteye_y': tf.int64,\n",
      "            'leftmouth_x': tf.int64,\n",
      "            'leftmouth_y': tf.int64,\n",
      "            'nose_x': tf.int64,\n",
      "            'nose_y': tf.int64,\n",
      "            'righteye_x': tf.int64,\n",
      "            'righteye_y': tf.int64,\n",
      "            'rightmouth_x': tf.int64,\n",
      "            'rightmouth_y': tf.int64,\n",
      "        }),\n",
      "    }),\n",
      "    supervised_keys=None,\n",
      "    splits={\n",
      "        'test': <SplitInfo num_examples=19962, num_shards=2>,\n",
      "        'train': <SplitInfo num_examples=162770, num_shards=16>,\n",
      "        'validation': <SplitInfo num_examples=19867, num_shards=2>,\n",
      "    },\n",
      "    citation=\"\"\"@inproceedings{conf/iccv/LiuLWT15,\n",
      "      added-at = {2018-10-09T00:00:00.000+0200},\n",
      "      author = {Liu, Ziwei and Luo, Ping and Wang, Xiaogang and Tang, Xiaoou},\n",
      "      biburl = {https://www.bibsonomy.org/bibtex/250e4959be61db325d2f02c1d8cd7bfbb/dblp},\n",
      "      booktitle = {ICCV},\n",
      "      crossref = {conf/iccv/2015},\n",
      "      ee = {http://doi.ieeecomputersociety.org/10.1109/ICCV.2015.425},\n",
      "      interhash = {3f735aaa11957e73914bbe2ca9d5e702},\n",
      "      intrahash = {50e4959be61db325d2f02c1d8cd7bfbb},\n",
      "      isbn = {978-1-4673-8391-2},\n",
      "      keywords = {dblp},\n",
      "      pages = {3730-3738},\n",
      "      publisher = {IEEE Computer Society},\n",
      "      timestamp = {2018-10-11T11:43:28.000+0200},\n",
      "      title = {Deep Learning Face Attributes in the Wild.},\n",
      "      url = {http://dblp.uni-trier.de/db/conf/iccv/iccv2015.html#LiuLWT15},\n",
      "      year = 2015\n",
      "    }\"\"\",\n",
      ")\n"
     ]
    }
   ],
   "source": [
    "celeb, celeb_info=tfds.load('celeb_a',with_info=True, shuffle_files=False)\n",
    "print(celeb_info)"
   ]
  },
  {
   "cell_type": "code",
   "execution_count": 3,
   "metadata": {},
   "outputs": [
    {
     "name": "stdout",
     "output_type": "stream",
     "text": [
      "tfds.core.DatasetInfo(\n",
      "    name='mnist',\n",
      "    full_name='mnist/3.0.1',\n",
      "    description=\"\"\"\n",
      "    The MNIST database of handwritten digits.\n",
      "    \"\"\",\n",
      "    homepage='http://yann.lecun.com/exdb/mnist/',\n",
      "    data_path='C:\\\\Users\\\\user\\\\tensorflow_datasets\\\\mnist\\\\3.0.1',\n",
      "    download_size=11.06 MiB,\n",
      "    dataset_size=21.00 MiB,\n",
      "    features=FeaturesDict({\n",
      "        'image': Image(shape=(28, 28, 1), dtype=tf.uint8),\n",
      "        'label': ClassLabel(shape=(), dtype=tf.int64, num_classes=10),\n",
      "    }),\n",
      "    supervised_keys=('image', 'label'),\n",
      "    splits={\n",
      "        'test': <SplitInfo num_examples=10000, num_shards=1>,\n",
      "        'train': <SplitInfo num_examples=60000, num_shards=1>,\n",
      "    },\n",
      "    citation=\"\"\"@article{lecun2010mnist,\n",
      "      title={MNIST handwritten digit database},\n",
      "      author={LeCun, Yann and Cortes, Corinna and Burges, CJ},\n",
      "      journal={ATT Labs [Online]. Available: http://yann.lecun.com/exdb/mnist},\n",
      "      volume={2},\n",
      "      year={2010}\n",
      "    }\"\"\",\n",
      ")\n"
     ]
    }
   ],
   "source": [
    "mnist, mnist_info=tfds.load('mnist',with_info=True, shuffle_files=False)\n",
    "print(mnist_info)"
   ]
  },
  {
   "cell_type": "code",
   "execution_count": 5,
   "metadata": {},
   "outputs": [
    {
     "name": "stdout",
     "output_type": "stream",
     "text": [
      "dict_keys(['train', 'test'])\n"
     ]
    }
   ],
   "source": [
    "print(mnist.keys())"
   ]
  },
  {
   "cell_type": "code",
   "execution_count": 6,
   "metadata": {},
   "outputs": [
    {
     "name": "stdout",
     "output_type": "stream",
     "text": [
      "60000\n",
      "(50000, 28, 28, 1) (50000,)\n"
     ]
    }
   ],
   "source": [
    "ds_train=mnist['train']\n",
    "print(len(ds_train))\n",
    "ds_train=ds_train.map(lambda item:(item['image'],item['label']))\n",
    "ds_train=ds_train.shuffle(50000).batch(50000)\n",
    "batch=next(iter(ds_train))\n",
    "print(batch[0].shape, batch[1].shape)"
   ]
  },
  {
   "cell_type": "code",
   "execution_count": 7,
   "metadata": {},
   "outputs": [
    {
     "name": "stdout",
     "output_type": "stream",
     "text": [
      "10000\n",
      "(28, 28, 1) ()\n"
     ]
    }
   ],
   "source": [
    "import numpy as np\n",
    "import pandas as pd\n",
    "ds_test=mnist['test']\n",
    "print(len(ds_test))\n",
    "ds_test=ds_test.map(lambda item:(item['image'],item['label']))\n",
    "ds_test=next(iter(ds_test))\n",
    "print(ds_test[0].shape, ds_test[1].shape)"
   ]
  },
  {
   "cell_type": "code",
   "execution_count": null,
   "metadata": {},
   "outputs": [],
   "source": []
  },
  {
   "cell_type": "code",
   "execution_count": null,
   "metadata": {},
   "outputs": [],
   "source": []
  },
  {
   "cell_type": "code",
   "execution_count": 1,
   "metadata": {},
   "outputs": [
    {
     "name": "stdout",
     "output_type": "stream",
     "text": [
      "(60000, 28, 28)\n",
      "(10000, 28, 28)\n",
      "(60000,)\n"
     ]
    }
   ],
   "source": [
    "import numpy as np\n",
    "import tensorflow as tf\n",
    "from tensorflow.keras.datasets import mnist\n",
    "import matplotlib.pyplot as plt\n",
    "#데이터 불러오기\n",
    "(x_train,y_train),(x_test,y_test)=mnist.load_data()\n",
    "print(x_train.shape)\n",
    "print(x_test.shape)\n",
    "print(y_train.shape)"
   ]
  },
  {
   "cell_type": "code",
   "execution_count": 2,
   "metadata": {},
   "outputs": [
    {
     "data": {
      "text/plain": [
       "'2.4.0'"
      ]
     },
     "execution_count": 2,
     "metadata": {},
     "output_type": "execute_result"
    }
   ],
   "source": [
    "import tensorflow.keras\n",
    "tensorflow.keras.__version__"
   ]
  },
  {
   "cell_type": "code",
   "execution_count": 3,
   "metadata": {},
   "outputs": [
    {
     "name": "stdout",
     "output_type": "stream",
     "text": [
      "Train labels: {0: 5923, 1: 6742, 2: 5958, 3: 6131, 4: 5842, 5: 5421, 6: 5918, 7: 6265, 8: 5851, 9: 5949}\n",
      "Test labels: {0: 980, 1: 1135, 2: 1032, 3: 1010, 4: 982, 5: 892, 6: 958, 7: 1028, 8: 974, 9: 1009}\n"
     ]
    }
   ],
   "source": [
    "unique,counts=np.unique(y_train,return_counts=True)\n",
    "print('Train labels:',dict(zip(unique,counts)))\n",
    "unique,counts=np.unique(y_test,return_counts=True)\n",
    "print('Test labels:',dict(zip(unique,counts)))"
   ]
  },
  {
   "cell_type": "code",
   "execution_count": 4,
   "metadata": {},
   "outputs": [
    {
     "data": {
      "image/png": "[encoded data removed]",
      "text/plain": [
       "<Figure size 144x144 with 4 Axes>"
      ]
     },
     "metadata": {
      "needs_background": "light"
     },
     "output_type": "display_data"
    }
   ],
   "source": [
    "# 4개의 임의 표본 추출하기\n",
    "indices=np.random.randint(0,x_train.shape[0],size=4)\n",
    "images=x_train[indices]\n",
    "labels=y_train[indices]\n",
    "# 4개 표본 그림그리기\n",
    "plt.figure(figsize=(2,2))\n",
    "for i in range(len(indices)):\n",
    "    plt.subplot(2,2,i+1)\n",
    "    image=images[i]\n",
    "    plt.imshow(image, cmap='gray')\n",
    "    plt.grid('off')\n",
    "plt.show()"
   ]
  },
  {
   "cell_type": "code",
   "execution_count": 5,
   "metadata": {},
   "outputs": [
    {
     "name": "stdout",
     "output_type": "stream",
     "text": [
      "(60000, 10)\n"
     ]
    }
   ],
   "source": [
    "# one-hot coding을 위한 라이브러리 불러오기\n",
    "from tensorflow.keras.utils import to_categorical, plot_model\n",
    "num_features=784  #x_train.shape[1]*x_train.shape[2]\n",
    "x_train=x_train.reshape(-1,num_features).astype('float32')# 또는 np.reshape(x_train, (-1,num_features)).astype('float32')\n",
    "x_test=x_test.reshape(-1,num_features).astype('float32')\n",
    "\n",
    "#reshape안에 '-1'대신 x_train.shape[0]을 써도 되지만 '-1'을 해줌으로써 해당 axis의 값을 스스로 계산하게 한다.\n",
    "#예를 들어 x의 shape이 (100,200,3)일 때 x.reshape(-1,100)으로 하면 x의 shape은 (600,100)으로 된다.\n",
    "\n",
    "x_train=x_train/255.\n",
    "x_test=x_test/255.\n",
    "\n",
    "# 10개의 범주형 자료를 one-hot 벡터로 바꿔주기\n",
    "y_train=to_categorical(y_train)\n",
    "y_test=to_categorical(y_test)\n",
    "num_classes=y_train.shape[1]\n",
    "print(y_train.shape)"
   ]
  },
  {
   "cell_type": "code",
   "execution_count": 7,
   "metadata": {},
   "outputs": [
    {
     "name": "stdout",
     "output_type": "stream",
     "text": [
      "Model: \"sequential_1\"\n",
      "_________________________________________________________________\n",
      "Layer (type)                 Output Shape              Param #   \n",
      "=================================================================\n",
      "dense_3 (Dense)              (None, 256)               200960    \n",
      "_________________________________________________________________\n",
      "activation_1 (Activation)    (None, 256)               0         \n",
      "_________________________________________________________________\n",
      "dropout_1 (Dropout)          (None, 256)               0         \n",
      "_________________________________________________________________\n",
      "dense_4 (Dense)              (None, 256)               65792     \n",
      "_________________________________________________________________\n",
      "dense_5 (Dense)              (None, 10)                2570      \n",
      "=================================================================\n",
      "Total params: 269,322\n",
      "Trainable params: 269,322\n",
      "Non-trainable params: 0\n",
      "_________________________________________________________________\n"
     ]
    },
    {
     "data": {
      "image/png": "[encoded data removed]",
      "text/plain": [
       "<IPython.core.display.Image object>"
      ]
     },
     "execution_count": 7,
     "metadata": {},
     "output_type": "execute_result"
    }
   ],
   "source": [
    "from tensorflow.keras.models import Sequential\n",
    "from tensorflow.keras.layers import Dense, Activation, Dropout\n",
    "#2개의 은닉층과 1개의 출력층으로 구성된 MLP모형\n",
    "model=Sequential()\n",
    "model.add(Dense(256,input_dim=num_features)) #input은 1D tensor\n",
    "model.add(Activation('relu'))\n",
    "# 또는 model.add(Dense(256, input_dim=num_features,activation='relu'))로 Dense와 Activation을 함께 쓸 수 있음\n",
    "model.add(Dropout(0.45))\n",
    "model.add(Dense(256, activation='relu'))\n",
    "model.add(Dense(num_classes,activation='softmax'))\n",
    "model.summary()\n",
    "plot_model(model,#to_file='C:/Users/yspark/Desktop/딥러닝교재/제 4장 TensorFlow 2.x-Keras/ch4_1.png', \n",
    "           show_shapes=True)"
   ]
  },
  {
   "cell_type": "code",
   "execution_count": 8,
   "metadata": {},
   "outputs": [
    {
     "name": "stdout",
     "output_type": "stream",
     "text": [
      "(50000, 784)\n",
      "(50000, 10)\n"
     ]
    }
   ],
   "source": [
    "x_val=x_train[:10000]\n",
    "partial_x_train=x_train[10000:]\n",
    "y_val=y_train[:10000]\n",
    "partial_y_train=y_train[10000:]\n",
    "print(partial_x_train.shape)\n",
    "print(partial_y_train.shape)"
   ]
  },
  {
   "cell_type": "code",
   "execution_count": 12,
   "metadata": {},
   "outputs": [
    {
     "name": "stdout",
     "output_type": "stream",
     "text": [
      "Epoch 1/10\n",
      "782/782 [==============================] - 3s 4ms/step - loss: 0.0437 - accuracy: 0.9859 - val_loss: 0.0753 - val_accuracy: 0.9813\n",
      "Epoch 2/10\n",
      "782/782 [==============================] - 3s 4ms/step - loss: 0.0386 - accuracy: 0.9867 - val_loss: 0.0732 - val_accuracy: 0.9813\n",
      "Epoch 3/10\n",
      "782/782 [==============================] - 3s 4ms/step - loss: 0.0400 - accuracy: 0.9871 - val_loss: 0.0693 - val_accuracy: 0.9833\n",
      "Epoch 4/10\n",
      "782/782 [==============================] - 3s 4ms/step - loss: 0.0401 - accuracy: 0.9870 - val_loss: 0.0698 - val_accuracy: 0.9820\n",
      "Epoch 5/10\n",
      "782/782 [==============================] - 3s 4ms/step - loss: 0.0383 - accuracy: 0.9872 - val_loss: 0.0672 - val_accuracy: 0.9827\n",
      "Epoch 6/10\n",
      "782/782 [==============================] - 3s 4ms/step - loss: 0.0330 - accuracy: 0.9890 - val_loss: 0.0638 - val_accuracy: 0.9827\n",
      "Epoch 7/10\n",
      "782/782 [==============================] - 3s 4ms/step - loss: 0.0348 - accuracy: 0.9892 - val_loss: 0.0669 - val_accuracy: 0.9828\n",
      "Epoch 8/10\n",
      "782/782 [==============================] - 3s 4ms/step - loss: 0.0360 - accuracy: 0.9884 - val_loss: 0.0710 - val_accuracy: 0.9818\n",
      "Epoch 9/10\n",
      "782/782 [==============================] - 3s 4ms/step - loss: 0.0342 - accuracy: 0.9885 - val_loss: 0.0754 - val_accuracy: 0.9810\n",
      "Epoch 10/10\n",
      "782/782 [==============================] - 3s 4ms/step - loss: 0.0386 - accuracy: 0.9874 - val_loss: 0.0730 - val_accuracy: 0.9820\n"
     ]
    },
    {
     "data": {
      "text/plain": [
       "dict_keys(['loss', 'accuracy', 'val_loss', 'val_accuracy'])"
      ]
     },
     "execution_count": 12,
     "metadata": {},
     "output_type": "execute_result"
    }
   ],
   "source": [
    "model.compile(loss='categorical_crossentropy',optimizer='adam', metrics=['accuracy'])\n",
    "history=model.fit(partial_x_train, partial_y_train, epochs=10, batch_size=64,validation_data=(x_val,y_val))\n",
    "history_out=history.history\n",
    "history_out.keys()"
   ]
  },
  {
   "cell_type": "code",
   "execution_count": 13,
   "metadata": {},
   "outputs": [
    {
     "data": {
      "image/png": "[encoded data removed]",
      "text/plain": [
       "<Figure size 432x288 with 1 Axes>"
      ]
     },
     "metadata": {
      "needs_background": "light"
     },
     "output_type": "display_data"
    }
   ],
   "source": [
    "import matplotlib.pyplot as plt\n",
    "\n",
    "loss=history_out['loss']\n",
    "loss_val=history_out['val_loss']\n",
    "accuracy=history_out['accuracy']\n",
    "accuracy_val=history_out['val_accuracy']\n",
    "plt.plot(loss,'bo',label='training loss')\n",
    "plt.plot( loss_val,'b', label='validation loss' )\n",
    "plt.title('Training and validation losss')\n",
    "plt.xlabel('epochs')\n",
    "plt.ylabel('loss')\n",
    "plt.legend()\n",
    "plt.show()"
   ]
  },
  {
   "cell_type": "code",
   "execution_count": 14,
   "metadata": {},
   "outputs": [
    {
     "data": {
      "image/png": "[encoded data removed]",
      "text/plain": [
       "<Figure size 432x288 with 1 Axes>"
      ]
     },
     "metadata": {
      "needs_background": "light"
     },
     "output_type": "display_data"
    }
   ],
   "source": [
    "plt.clf()\n",
    "plt.plot(accuracy,'bo',label='training accuracy')\n",
    "plt.plot(accuracy_val,'b', label='validation accuracy' )\n",
    "plt.title('Training and validation accuracy')\n",
    "plt.xlabel('epochs')\n",
    "plt.ylabel('accuracy')\n",
    "plt.legend()\n",
    "plt.show()"
   ]
  },
  {
   "cell_type": "code",
   "execution_count": 15,
   "metadata": {},
   "outputs": [
    {
     "name": "stdout",
     "output_type": "stream",
     "text": [
      "Epoch 1/30\n",
      "938/938 [==============================] - 4s 3ms/step - loss: 0.0505 - accuracy: 0.9862\n",
      "Epoch 2/30\n",
      "938/938 [==============================] - 3s 3ms/step - loss: 0.0420 - accuracy: 0.9870\n",
      "Epoch 3/30\n",
      "938/938 [==============================] - 3s 3ms/step - loss: 0.0400 - accuracy: 0.9875\n",
      "Epoch 4/30\n",
      "938/938 [==============================] - 3s 3ms/step - loss: 0.0375 - accuracy: 0.9883\n",
      "Epoch 5/30\n",
      "938/938 [==============================] - 3s 3ms/step - loss: 0.0374 - accuracy: 0.9878\n",
      "Epoch 6/30\n",
      "938/938 [==============================] - 3s 3ms/step - loss: 0.0366 - accuracy: 0.9883\n",
      "Epoch 7/30\n",
      "938/938 [==============================] - 3s 3ms/step - loss: 0.0345 - accuracy: 0.9893\n",
      "Epoch 8/30\n",
      "938/938 [==============================] - 4s 4ms/step - loss: 0.0322 - accuracy: 0.9894\n",
      "Epoch 9/30\n",
      "938/938 [==============================] - 3s 3ms/step - loss: 0.0316 - accuracy: 0.9897\n",
      "Epoch 10/30\n",
      "938/938 [==============================] - 3s 3ms/step - loss: 0.0364 - accuracy: 0.9874\n",
      "Epoch 11/30\n",
      "938/938 [==============================] - 3s 3ms/step - loss: 0.0296 - accuracy: 0.9912\n",
      "Epoch 12/30\n",
      "938/938 [==============================] - 3s 3ms/step - loss: 0.0329 - accuracy: 0.9898\n",
      "Epoch 13/30\n",
      "938/938 [==============================] - 4s 4ms/step - loss: 0.0316 - accuracy: 0.9897\n",
      "Epoch 14/30\n",
      "938/938 [==============================] - 3s 4ms/step - loss: 0.0330 - accuracy: 0.9901\n",
      "Epoch 15/30\n",
      "938/938 [==============================] - 3s 4ms/step - loss: 0.0286 - accuracy: 0.9910\n",
      "Epoch 16/30\n",
      "938/938 [==============================] - 3s 4ms/step - loss: 0.0303 - accuracy: 0.9903\n",
      "Epoch 17/30\n",
      "938/938 [==============================] - 3s 4ms/step - loss: 0.0297 - accuracy: 0.9909\n",
      "Epoch 18/30\n",
      "938/938 [==============================] - 4s 4ms/step - loss: 0.0312 - accuracy: 0.9897\n",
      "Epoch 19/30\n",
      "938/938 [==============================] - 3s 3ms/step - loss: 0.0270 - accuracy: 0.9906\n",
      "Epoch 20/30\n",
      "938/938 [==============================] - 3s 3ms/step - loss: 0.0319 - accuracy: 0.9901\n",
      "Epoch 21/30\n",
      "938/938 [==============================] - 3s 4ms/step - loss: 0.0288 - accuracy: 0.9911\n",
      "Epoch 22/30\n",
      "938/938 [==============================] - 3s 4ms/step - loss: 0.0301 - accuracy: 0.9905\n",
      "Epoch 23/30\n",
      "938/938 [==============================] - 3s 4ms/step - loss: 0.0255 - accuracy: 0.9913\n",
      "Epoch 24/30\n",
      "938/938 [==============================] - 3s 4ms/step - loss: 0.0280 - accuracy: 0.9900\n",
      "Epoch 25/30\n",
      "938/938 [==============================] - 3s 4ms/step - loss: 0.0297 - accuracy: 0.9906\n",
      "Epoch 26/30\n",
      "938/938 [==============================] - 3s 4ms/step - loss: 0.0230 - accuracy: 0.9922\n",
      "Epoch 27/30\n",
      "938/938 [==============================] - 4s 4ms/step - loss: 0.0271 - accuracy: 0.9913\n",
      "Epoch 28/30\n",
      "938/938 [==============================] - 4s 4ms/step - loss: 0.0287 - accuracy: 0.9910\n",
      "Epoch 29/30\n",
      "938/938 [==============================] - 4s 4ms/step - loss: 0.0277 - accuracy: 0.9916\n",
      "Epoch 30/30\n",
      "938/938 [==============================] - 4s 4ms/step - loss: 0.0277 - accuracy: 0.9916\n"
     ]
    },
    {
     "data": {
      "text/plain": [
       "<tensorflow.python.keras.callbacks.History at 0x1dd645043d0>"
      ]
     },
     "execution_count": 15,
     "metadata": {},
     "output_type": "execute_result"
    }
   ],
   "source": [
    "model.compile(loss='categorical_crossentropy',optimizer='adam', metrics=['accuracy'])\n",
    "model.fit(x_train,y_train,epochs=30,batch_size=64)\n"
   ]
  },
  {
   "cell_type": "code",
   "execution_count": 16,
   "metadata": {},
   "outputs": [
    {
     "name": "stdout",
     "output_type": "stream",
     "text": [
      "1875/1875 [==============================] - 2s 1ms/step - loss: 0.0022 - accuracy: 0.9996\n",
      "313/313 [==============================] - 1s 2ms/step - loss: 0.0684 - accuracy: 0.9857\n",
      "[0.0022292437497526407, 0.9995999932289124]\n",
      "[0.06841004639863968, 0.9857000112533569]\n"
     ]
    },
    {
     "data": {
      "text/html": [
       "<div>\n",
       "<style scoped>\n",
       "    .dataframe tbody tr th:only-of-type {\n",
       "        vertical-align: middle;\n",
       "    }\n",
       "\n",
       "    .dataframe tbody tr th {\n",
       "        vertical-align: top;\n",
       "    }\n",
       "\n",
       "    .dataframe thead th {\n",
       "        text-align: right;\n",
       "    }\n",
       "</style>\n",
       "<table border=\"1\" class=\"dataframe\">\n",
       "  <thead>\n",
       "    <tr style=\"text-align: right;\">\n",
       "      <th></th>\n",
       "      <th>0</th>\n",
       "      <th>1</th>\n",
       "      <th>2</th>\n",
       "      <th>3</th>\n",
       "      <th>4</th>\n",
       "      <th>5</th>\n",
       "      <th>6</th>\n",
       "      <th>7</th>\n",
       "      <th>8</th>\n",
       "      <th>9</th>\n",
       "    </tr>\n",
       "  </thead>\n",
       "  <tbody>\n",
       "    <tr>\n",
       "      <th>0</th>\n",
       "      <td>2.512114e-13</td>\n",
       "      <td>1.505367e-11</td>\n",
       "      <td>3.901381e-10</td>\n",
       "      <td>6.400227e-10</td>\n",
       "      <td>3.201160e-11</td>\n",
       "      <td>1.441041e-11</td>\n",
       "      <td>1.115993e-15</td>\n",
       "      <td>1.000000e+00</td>\n",
       "      <td>1.381402e-12</td>\n",
       "      <td>2.501773e-08</td>\n",
       "    </tr>\n",
       "    <tr>\n",
       "      <th>1</th>\n",
       "      <td>2.701384e-20</td>\n",
       "      <td>1.336186e-12</td>\n",
       "      <td>1.000000e+00</td>\n",
       "      <td>4.983330e-11</td>\n",
       "      <td>1.056717e-25</td>\n",
       "      <td>1.490502e-22</td>\n",
       "      <td>6.312381e-17</td>\n",
       "      <td>2.324006e-15</td>\n",
       "      <td>1.005546e-17</td>\n",
       "      <td>7.058482e-25</td>\n",
       "    </tr>\n",
       "    <tr>\n",
       "      <th>2</th>\n",
       "      <td>1.316511e-14</td>\n",
       "      <td>1.000000e+00</td>\n",
       "      <td>2.833207e-10</td>\n",
       "      <td>8.108630e-13</td>\n",
       "      <td>2.318300e-10</td>\n",
       "      <td>6.452159e-10</td>\n",
       "      <td>2.363700e-10</td>\n",
       "      <td>2.192799e-08</td>\n",
       "      <td>7.970990e-09</td>\n",
       "      <td>1.741163e-13</td>\n",
       "    </tr>\n",
       "    <tr>\n",
       "      <th>3</th>\n",
       "      <td>9.999982e-01</td>\n",
       "      <td>6.465837e-17</td>\n",
       "      <td>7.313399e-11</td>\n",
       "      <td>3.011798e-11</td>\n",
       "      <td>1.620136e-11</td>\n",
       "      <td>6.655380e-08</td>\n",
       "      <td>1.623586e-06</td>\n",
       "      <td>2.194834e-11</td>\n",
       "      <td>3.581863e-11</td>\n",
       "      <td>8.832630e-09</td>\n",
       "    </tr>\n",
       "    <tr>\n",
       "      <th>4</th>\n",
       "      <td>1.198120e-07</td>\n",
       "      <td>1.386807e-09</td>\n",
       "      <td>2.324232e-09</td>\n",
       "      <td>9.752268e-10</td>\n",
       "      <td>9.999782e-01</td>\n",
       "      <td>1.780558e-10</td>\n",
       "      <td>1.390433e-08</td>\n",
       "      <td>5.591154e-06</td>\n",
       "      <td>8.650354e-10</td>\n",
       "      <td>1.611585e-05</td>\n",
       "    </tr>\n",
       "  </tbody>\n",
       "</table>\n",
       "</div>"
      ],
      "text/plain": [
       "              0             1             2             3             4  \\\n",
       "0  2.512114e-13  1.505367e-11  3.901381e-10  6.400227e-10  3.201160e-11   \n",
       "1  2.701384e-20  1.336186e-12  1.000000e+00  4.983330e-11  1.056717e-25   \n",
       "2  1.316511e-14  1.000000e+00  2.833207e-10  8.108630e-13  2.318300e-10   \n",
       "3  9.999982e-01  6.465837e-17  7.313399e-11  3.011798e-11  1.620136e-11   \n",
       "4  1.198120e-07  1.386807e-09  2.324232e-09  9.752268e-10  9.999782e-01   \n",
       "\n",
       "              5             6             7             8             9  \n",
       "0  1.441041e-11  1.115993e-15  1.000000e+00  1.381402e-12  2.501773e-08  \n",
       "1  1.490502e-22  6.312381e-17  2.324006e-15  1.005546e-17  7.058482e-25  \n",
       "2  6.452159e-10  2.363700e-10  2.192799e-08  7.970990e-09  1.741163e-13  \n",
       "3  6.655380e-08  1.623586e-06  2.194834e-11  3.581863e-11  8.832630e-09  \n",
       "4  1.780558e-10  1.390433e-08  5.591154e-06  8.650354e-10  1.611585e-05  "
      ]
     },
     "execution_count": 16,
     "metadata": {},
     "output_type": "execute_result"
    }
   ],
   "source": [
    "import pandas as pd\n",
    "result_train=model.evaluate(x_train,y_train)\n",
    "result_test=model.evaluate(x_test,y_test)\n",
    "print(result_train)\n",
    "print(result_test)\n",
    "pred=model.predict(x_test)\n",
    "pred=pd.DataFrame(pred)\n",
    "pred.head()"
   ]
  },
  {
   "cell_type": "code",
   "execution_count": 17,
   "metadata": {},
   "outputs": [],
   "source": [
    "import numpy as np\n",
    "from tensorflow.keras.layers import Dense, Dropout, Input\n",
    "from tensorflow.keras.models import Model\n",
    "x=Input(shape=(num_features,))\n",
    "h1=Dense(256, activation='relu')(x)\n",
    "h1=Dropout(0.45)(h1)\n",
    "h2=Dense(256, activation='relu')(h1)\n",
    "out=Dense(num_classes, activation='softmax')(h2)\n",
    "model=Model(inputs=x, outputs=out)"
   ]
  },
  {
   "cell_type": "code",
   "execution_count": 18,
   "metadata": {},
   "outputs": [
    {
     "name": "stdout",
     "output_type": "stream",
     "text": [
      "Epoch 1/30\n",
      "938/938 [==============================] - 4s 4ms/step - loss: 0.5281 - acc: 0.8388\n",
      "Epoch 2/30\n",
      "938/938 [==============================] - 3s 3ms/step - loss: 0.1665 - acc: 0.9491\n",
      "Epoch 3/30\n",
      "938/938 [==============================] - 3s 3ms/step - loss: 0.1266 - acc: 0.9603\n",
      "Epoch 4/30\n",
      "938/938 [==============================] - 3s 3ms/step - loss: 0.1025 - acc: 0.9677\n",
      "Epoch 5/30\n",
      "938/938 [==============================] - 3s 3ms/step - loss: 0.0950 - acc: 0.9699\n",
      "Epoch 6/30\n",
      "938/938 [==============================] - 4s 4ms/step - loss: 0.0874 - acc: 0.9721\n",
      "Epoch 7/30\n",
      "938/938 [==============================] - 4s 4ms/step - loss: 0.0742 - acc: 0.9759\n",
      "Epoch 8/30\n",
      "938/938 [==============================] - 4s 4ms/step - loss: 0.0721 - acc: 0.9769\n",
      "Epoch 9/30\n",
      "938/938 [==============================] - 3s 4ms/step - loss: 0.0639 - acc: 0.9795\n",
      "Epoch 10/30\n",
      "938/938 [==============================] - 4s 4ms/step - loss: 0.0646 - acc: 0.9788\n",
      "Epoch 11/30\n",
      "938/938 [==============================] - 4s 4ms/step - loss: 0.0612 - acc: 0.9797\n",
      "Epoch 12/30\n",
      "938/938 [==============================] - 3s 4ms/step - loss: 0.0567 - acc: 0.9824\n",
      "Epoch 13/30\n",
      "938/938 [==============================] - 4s 4ms/step - loss: 0.0545 - acc: 0.9815\n",
      "Epoch 14/30\n",
      "938/938 [==============================] - 3s 4ms/step - loss: 0.0527 - acc: 0.9828\n",
      "Epoch 15/30\n",
      "938/938 [==============================] - 4s 4ms/step - loss: 0.0540 - acc: 0.9819\n",
      "Epoch 16/30\n",
      "938/938 [==============================] - 4s 4ms/step - loss: 0.0471 - acc: 0.9842\n",
      "Epoch 17/30\n",
      "938/938 [==============================] - 4s 4ms/step - loss: 0.0462 - acc: 0.9849\n",
      "Epoch 18/30\n",
      "938/938 [==============================] - 3s 4ms/step - loss: 0.0404 - acc: 0.9860\n",
      "Epoch 19/30\n",
      "938/938 [==============================] - 3s 4ms/step - loss: 0.0422 - acc: 0.9861\n",
      "Epoch 20/30\n",
      "938/938 [==============================] - 4s 4ms/step - loss: 0.0400 - acc: 0.9875\n",
      "Epoch 21/30\n",
      "938/938 [==============================] - 4s 4ms/step - loss: 0.0421 - acc: 0.9859\n",
      "Epoch 22/30\n",
      "938/938 [==============================] - 3s 4ms/step - loss: 0.0415 - acc: 0.9856\n",
      "Epoch 23/30\n",
      "938/938 [==============================] - 3s 4ms/step - loss: 0.0412 - acc: 0.9867\n",
      "Epoch 24/30\n",
      "938/938 [==============================] - 4s 4ms/step - loss: 0.0381 - acc: 0.9874\n",
      "Epoch 25/30\n",
      "938/938 [==============================] - 3s 4ms/step - loss: 0.0339 - acc: 0.9885\n",
      "Epoch 26/30\n",
      "938/938 [==============================] - 3s 4ms/step - loss: 0.0384 - acc: 0.9864\n",
      "Epoch 27/30\n",
      "938/938 [==============================] - 3s 4ms/step - loss: 0.0348 - acc: 0.9889\n",
      "Epoch 28/30\n",
      "938/938 [==============================] - 4s 4ms/step - loss: 0.0332 - acc: 0.9881\n",
      "Epoch 29/30\n",
      "938/938 [==============================] - 4s 4ms/step - loss: 0.0347 - acc: 0.9888\n",
      "Epoch 30/30\n",
      "938/938 [==============================] - 4s 4ms/step - loss: 0.0340 - acc: 0.9890\n"
     ]
    },
    {
     "data": {
      "text/plain": [
       "<tensorflow.python.keras.callbacks.History at 0x1dd64aa3490>"
      ]
     },
     "execution_count": 18,
     "metadata": {},
     "output_type": "execute_result"
    }
   ],
   "source": [
    "model.compile(loss='categorical_crossentropy', optimizer='adam',metrics=['acc'])\n",
    "model.fit(x_train,y_train,epochs=30,batch_size=64)"
   ]
  },
  {
   "cell_type": "code",
   "execution_count": 5,
   "metadata": {},
   "outputs": [
    {
     "name": "stdout",
     "output_type": "stream",
     "text": [
      "Model: \"sequential_2\"\n",
      "_________________________________________________________________\n",
      "Layer (type)                 Output Shape              Param #   \n",
      "=================================================================\n",
      "dense_2 (Dense)              (None, 2)                 6         \n",
      "_________________________________________________________________\n",
      "my_layer_2 (MyLayer)         (None, 4)                 8         \n",
      "_________________________________________________________________\n",
      "activation_2 (Activation)    (None, 4)                 0         \n",
      "=================================================================\n",
      "Total params: 14\n",
      "Trainable params: 14\n",
      "Non-trainable params: 0\n",
      "_________________________________________________________________\n",
      "Model: \"sequential_3\"\n",
      "_________________________________________________________________\n",
      "Layer (type)                 Output Shape              Param #   \n",
      "=================================================================\n",
      "dense_3 (Dense)              (None, 2)                 6         \n",
      "_________________________________________________________________\n",
      "my_layer_3 (MyLayer)         (None, 4)                 8         \n",
      "_________________________________________________________________\n",
      "activation_3 (Activation)    (None, 4)                 0         \n",
      "=================================================================\n",
      "Total params: 14\n",
      "Trainable params: 14\n",
      "Non-trainable params: 0\n",
      "_________________________________________________________________\n"
     ]
    }
   ],
   "source": [
    "import tensorflow as tf\n",
    "from tensorflow.keras.layers import Dense, Activation,Layer\n",
    "\n",
    "class MyLayer(Layer):\n",
    "    def __init__(self, out_dim):\n",
    "        self.out=out_dim\n",
    "        super(MyLayer,self).__init__()\n",
    "    def build(self,input_shape):\n",
    "        self.kernel=self.add_weight(shape=(input_shape[1],self.out),trainable=True)\n",
    "        \n",
    "    def call(self,inputs):\n",
    "        return tf.matmul(inputs,self.kernel)\n",
    "    \n",
    "model=tf.keras.Sequential([Dense(2,input_shape=(2,)),MyLayer(4),Activation('relu')])\n",
    "model.summary()\n",
    "model1=tf.keras.Sequential()\n",
    "model1.add(Dense(2, input_shape=(2,)))\n",
    "model1.add(MyLayer(4))\n",
    "model1.add(Activation('relu'))\n",
    "model1.summary()"
   ]
  },
  {
   "cell_type": "code",
   "execution_count": null,
   "metadata": {},
   "outputs": [],
   "source": [
    "pip install --upgrade tensorflow-gpu"
   ]
  }
 ],
 "metadata": {
  "kernelspec": {
   "display_name": "Python 3",
   "language": "python",
   "name": "python3"
  },
  "language_info": {
   "codemirror_mode": {
    "name": "ipython",
    "version": 3
   },
   "file_extension": ".py",
   "mimetype": "text/x-python",
   "name": "python",
   "nbconvert_exporter": "python",
   "pygments_lexer": "ipython3",
   "version": "3.8.5"
  }
 },
 "nbformat": 4,
 "nbformat_minor": 4
}
